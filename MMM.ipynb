{
 "cells": [
  {
   "cell_type": "markdown",
   "metadata": {},
   "source": [
    "# Data Cleaning & Preparation"
   ]
  },
  {
   "cell_type": "code",
   "execution_count": 3,
   "metadata": {},
   "outputs": [
    {
     "name": "stdout",
     "output_type": "stream",
     "text": [
      "<class 'pandas.core.frame.DataFrame'>\n",
      "DatetimeIndex: 12 entries, 2016-01-01 to 2015-12-01\n",
      "Data columns (total 37 columns):\n",
      " #   Column                       Non-Null Count  Dtype  \n",
      "---  ------                       --------------  -----  \n",
      " 0   Unnamed_0                    12 non-null     int64  \n",
      " 1   month                        12 non-null     object \n",
      " 2   Revenue_Camera               12 non-null     float64\n",
      " 3   Revenue_CameraAccessory      12 non-null     float64\n",
      " 4   Revenue_EntertainmentSmall   12 non-null     float64\n",
      " 5   Revenue_GameCDDVD            12 non-null     float64\n",
      " 6   Revenue_GamingHardware       12 non-null     float64\n",
      " 7   total_gmv                    12 non-null     float64\n",
      " 8   Units_Camera                 12 non-null     int64  \n",
      " 9   Units_CameraAccessory        12 non-null     int64  \n",
      " 10  Units_EntertainmentSmall     12 non-null     int64  \n",
      " 11  Units_GameCDDVD              12 non-null     int64  \n",
      " 12  Units_GamingHardware         12 non-null     int64  \n",
      " 13  total_Units                  12 non-null     int64  \n",
      " 14  Mrp_Camera                   12 non-null     int64  \n",
      " 15  Mrp_CameraAccessory          12 non-null     int64  \n",
      " 16  Mrp_EntertainmentSmall       12 non-null     int64  \n",
      " 17  Mrp_GameCDDVD                12 non-null     int64  \n",
      " 18  Mrp_GamingHardware           12 non-null     int64  \n",
      " 19  total_Mrp                    12 non-null     int64  \n",
      " 20  Discount_Camera              12 non-null     float64\n",
      " 21  Discount_CameraAccessory     12 non-null     float64\n",
      " 22  Discount_EntertainmentSmall  12 non-null     float64\n",
      " 23  Discount_GameCDDVD           12 non-null     float64\n",
      " 24  Discount_GamingHardware      12 non-null     float64\n",
      " 25  total_Discount               12 non-null     float64\n",
      " 26  Year                         12 non-null     int64  \n",
      " 27  Month                        12 non-null     int64  \n",
      " 28  TotalInvestment              12 non-null     float64\n",
      " 29  TV                           12 non-null     float64\n",
      " 30  Digital                      12 non-null     float64\n",
      " 31  Sponsorship                  12 non-null     float64\n",
      " 32  ContentMarketing             12 non-null     float64\n",
      " 33  Onlinemarketing              12 non-null     float64\n",
      " 34  Affiliates                   12 non-null     float64\n",
      " 35  SEM                          12 non-null     float64\n",
      " 36  NPS                          12 non-null     float64\n",
      "dtypes: float64(21), int64(15), object(1)\n",
      "memory usage: 3.6+ KB\n",
      "None\n",
      "            Unnamed_0     month  Revenue_Camera  Revenue_CameraAccessory  \\\n",
      "Date                                                                       \n",
      "2016-01-01          1  Jan 2016    1.869358e+08             2.638743e+07   \n",
      "2016-02-01          2  Feb 2016    1.549989e+08             2.536880e+07   \n",
      "2016-03-01          3  Mar 2016    1.861417e+08             2.676195e+07   \n",
      "2016-04-01          4  Apr 2016    1.470531e+08             2.534451e+07   \n",
      "2016-05-01          5  May 2016    1.844336e+08             3.052432e+07   \n",
      "\n",
      "            Revenue_EntertainmentSmall  Revenue_GameCDDVD  \\\n",
      "Date                                                        \n",
      "2016-01-01                1.093020e+08       1.688487e+07   \n",
      "2016-02-01                1.011725e+08       1.510002e+07   \n",
      "2016-03-01                1.202884e+08       2.299259e+07   \n",
      "2016-04-01                9.808951e+07       2.081085e+07   \n",
      "2016-05-01                1.104899e+08       2.434611e+07   \n",
      "\n",
      "            Revenue_GamingHardware     total_gmv  Units_Camera  \\\n",
      "Date                                                             \n",
      "2016-01-01            4.770016e+07  3.872102e+08         10442   \n",
      "2016-02-01            3.561454e+07  3.322547e+08          8606   \n",
      "2016-03-01            4.802562e+07  4.042102e+08          9969   \n",
      "2016-04-01            4.848195e+07  3.397800e+08          8006   \n",
      "2016-05-01            5.967982e+07  4.094737e+08          9419   \n",
      "\n",
      "            Units_CameraAccessory  ...  Month  TotalInvestment          TV  \\\n",
      "Date                               ...                                       \n",
      "2016-01-01                  22525  ...      1     7.420000e+08  44000000.0   \n",
      "2016-02-01                  25406  ...      2     4.810000e+08  26000000.0   \n",
      "2016-03-01                  25484  ...      3     1.000000e+09  93000000.0   \n",
      "2016-04-01                  25926  ...      4     5.680000e+08  52000000.0   \n",
      "2016-05-01                  28820  ...      5     7.810000e+08  14000000.0   \n",
      "\n",
      "               Digital  Sponsorship  ContentMarketing  Onlinemarketing  \\\n",
      "Date                                                                     \n",
      "2016-01-01   5000000.0   42000000.0         9000000.0      229000000.0   \n",
      "2016-02-01  19000000.0  117000000.0         6000000.0      199000000.0   \n",
      "2016-03-01  21000000.0  416000000.0         4000000.0      184000000.0   \n",
      "2016-04-01   9000000.0  243000000.0               0.0      165000000.0   \n",
      "2016-05-01   8000000.0  317000000.0         8000000.0      237000000.0   \n",
      "\n",
      "            Affiliates         SEM   NPS  \n",
      "Date                                      \n",
      "2016-01-01  74000000.0  42000000.0  47.1  \n",
      "2016-02-01  65000000.0  49000000.0  50.3  \n",
      "2016-03-01  62000000.0  52000000.0  49.0  \n",
      "2016-04-01  57000000.0  42000000.0  51.8  \n",
      "2016-05-01  68000000.0  69000000.0  47.3  \n",
      "\n",
      "[5 rows x 37 columns]\n"
     ]
    }
   ],
   "source": [
    "import pandas as pd\n",
    "\n",
    "df = pd.read_csv(\"Secondfile.csv\")\n",
    "\n",
    "df.columns = (\n",
    "    df.columns\n",
    "    .str.replace(r'[^\\w\\s]', '', regex=True)\n",
    "    .str.replace(' ', '_')\n",
    "    .str.replace('.', '_')\n",
    ")\n",
    "\n",
    "df = df.drop(columns=['Radio', 'Other'])\n",
    "\n",
    "df['Date'] = pd.to_datetime(df['Date'])\n",
    "\n",
    "df.set_index('Date', inplace=True)\n",
    "\n",
    "print(df.info())\n",
    "print(df.head())\n"
   ]
  },
  {
   "cell_type": "markdown",
   "metadata": {},
   "source": [
    "# Feature Selection & Standardization "
   ]
  },
  {
   "cell_type": "code",
   "execution_count": 13,
   "metadata": {},
   "outputs": [
    {
     "ename": "ValueError",
     "evalue": "Shape of passed values is (12, 8), indices imply (12, 7)",
     "output_type": "error",
     "traceback": [
      "\u001b[31m---------------------------------------------------------------------------\u001b[39m",
      "\u001b[31mValueError\u001b[39m                                Traceback (most recent call last)",
      "\u001b[36mCell\u001b[39m\u001b[36m \u001b[39m\u001b[32mIn[13]\u001b[39m\u001b[32m, line 15\u001b[39m\n\u001b[32m     12\u001b[39m scaler = StandardScaler()\n\u001b[32m     13\u001b[39m X_scaled = scaler.fit_transform(X)\n\u001b[32m---> \u001b[39m\u001b[32m15\u001b[39m X_scaled_df = \u001b[43mpd\u001b[49m\u001b[43m.\u001b[49m\u001b[43mDataFrame\u001b[49m\u001b[43m(\u001b[49m\u001b[43mX_scaled\u001b[49m\u001b[43m,\u001b[49m\u001b[43m \u001b[49m\u001b[43mcolumns\u001b[49m\u001b[43m=\u001b[49m\u001b[43mmedia_features\u001b[49m\u001b[43m,\u001b[49m\u001b[43m \u001b[49m\u001b[43mindex\u001b[49m\u001b[43m=\u001b[49m\u001b[43mdf\u001b[49m\u001b[43m.\u001b[49m\u001b[43mindex\u001b[49m\u001b[43m)\u001b[49m\n\u001b[32m     17\u001b[39m \u001b[38;5;28mprint\u001b[39m(X_scaled_df.head())\n",
      "\u001b[36mFile \u001b[39m\u001b[32m~/Desktop/Marketing Mix Modeling/venv/lib/python3.13/site-packages/pandas/core/frame.py:827\u001b[39m, in \u001b[36mDataFrame.__init__\u001b[39m\u001b[34m(self, data, index, columns, dtype, copy)\u001b[39m\n\u001b[32m    816\u001b[39m         mgr = dict_to_mgr(\n\u001b[32m    817\u001b[39m             \u001b[38;5;66;03m# error: Item \"ndarray\" of \"Union[ndarray, Series, Index]\" has no\u001b[39;00m\n\u001b[32m    818\u001b[39m             \u001b[38;5;66;03m# attribute \"name\"\u001b[39;00m\n\u001b[32m   (...)\u001b[39m\u001b[32m    824\u001b[39m             copy=_copy,\n\u001b[32m    825\u001b[39m         )\n\u001b[32m    826\u001b[39m     \u001b[38;5;28;01melse\u001b[39;00m:\n\u001b[32m--> \u001b[39m\u001b[32m827\u001b[39m         mgr = \u001b[43mndarray_to_mgr\u001b[49m\u001b[43m(\u001b[49m\n\u001b[32m    828\u001b[39m \u001b[43m            \u001b[49m\u001b[43mdata\u001b[49m\u001b[43m,\u001b[49m\n\u001b[32m    829\u001b[39m \u001b[43m            \u001b[49m\u001b[43mindex\u001b[49m\u001b[43m,\u001b[49m\n\u001b[32m    830\u001b[39m \u001b[43m            \u001b[49m\u001b[43mcolumns\u001b[49m\u001b[43m,\u001b[49m\n\u001b[32m    831\u001b[39m \u001b[43m            \u001b[49m\u001b[43mdtype\u001b[49m\u001b[43m=\u001b[49m\u001b[43mdtype\u001b[49m\u001b[43m,\u001b[49m\n\u001b[32m    832\u001b[39m \u001b[43m            \u001b[49m\u001b[43mcopy\u001b[49m\u001b[43m=\u001b[49m\u001b[43mcopy\u001b[49m\u001b[43m,\u001b[49m\n\u001b[32m    833\u001b[39m \u001b[43m            \u001b[49m\u001b[43mtyp\u001b[49m\u001b[43m=\u001b[49m\u001b[43mmanager\u001b[49m\u001b[43m,\u001b[49m\n\u001b[32m    834\u001b[39m \u001b[43m        \u001b[49m\u001b[43m)\u001b[49m\n\u001b[32m    836\u001b[39m \u001b[38;5;66;03m# For data is list-like, or Iterable (will consume into list)\u001b[39;00m\n\u001b[32m    837\u001b[39m \u001b[38;5;28;01melif\u001b[39;00m is_list_like(data):\n",
      "\u001b[36mFile \u001b[39m\u001b[32m~/Desktop/Marketing Mix Modeling/venv/lib/python3.13/site-packages/pandas/core/internals/construction.py:336\u001b[39m, in \u001b[36mndarray_to_mgr\u001b[39m\u001b[34m(values, index, columns, dtype, copy, typ)\u001b[39m\n\u001b[32m    331\u001b[39m \u001b[38;5;66;03m# _prep_ndarraylike ensures that values.ndim == 2 at this point\u001b[39;00m\n\u001b[32m    332\u001b[39m index, columns = _get_axes(\n\u001b[32m    333\u001b[39m     values.shape[\u001b[32m0\u001b[39m], values.shape[\u001b[32m1\u001b[39m], index=index, columns=columns\n\u001b[32m    334\u001b[39m )\n\u001b[32m--> \u001b[39m\u001b[32m336\u001b[39m \u001b[43m_check_values_indices_shape_match\u001b[49m\u001b[43m(\u001b[49m\u001b[43mvalues\u001b[49m\u001b[43m,\u001b[49m\u001b[43m \u001b[49m\u001b[43mindex\u001b[49m\u001b[43m,\u001b[49m\u001b[43m \u001b[49m\u001b[43mcolumns\u001b[49m\u001b[43m)\u001b[49m\n\u001b[32m    338\u001b[39m \u001b[38;5;28;01mif\u001b[39;00m typ == \u001b[33m\"\u001b[39m\u001b[33marray\u001b[39m\u001b[33m\"\u001b[39m:\n\u001b[32m    339\u001b[39m     \u001b[38;5;28;01mif\u001b[39;00m \u001b[38;5;28missubclass\u001b[39m(values.dtype.type, \u001b[38;5;28mstr\u001b[39m):\n",
      "\u001b[36mFile \u001b[39m\u001b[32m~/Desktop/Marketing Mix Modeling/venv/lib/python3.13/site-packages/pandas/core/internals/construction.py:420\u001b[39m, in \u001b[36m_check_values_indices_shape_match\u001b[39m\u001b[34m(values, index, columns)\u001b[39m\n\u001b[32m    418\u001b[39m passed = values.shape\n\u001b[32m    419\u001b[39m implied = (\u001b[38;5;28mlen\u001b[39m(index), \u001b[38;5;28mlen\u001b[39m(columns))\n\u001b[32m--> \u001b[39m\u001b[32m420\u001b[39m \u001b[38;5;28;01mraise\u001b[39;00m \u001b[38;5;167;01mValueError\u001b[39;00m(\u001b[33mf\u001b[39m\u001b[33m\"\u001b[39m\u001b[33mShape of passed values is \u001b[39m\u001b[38;5;132;01m{\u001b[39;00mpassed\u001b[38;5;132;01m}\u001b[39;00m\u001b[33m, indices imply \u001b[39m\u001b[38;5;132;01m{\u001b[39;00mimplied\u001b[38;5;132;01m}\u001b[39;00m\u001b[33m\"\u001b[39m)\n",
      "\u001b[31mValueError\u001b[39m: Shape of passed values is (12, 8), indices imply (12, 7)"
     ]
    }
   ],
   "source": [
    "from sklearn.preprocessing import StandardScaler\n",
    "\n",
    "y = df['total_gmv']\n",
    "\n",
    "media_features = ['TV', 'Digital', 'Sponsorship', 'ContentMarketing',\n",
    "                  'Onlinemarketing', 'Affiliates', 'SEM']\n",
    "media_features_with_nps = media_features + ['NPS']\n",
    "\n",
    "X = df[media_features_with_nps]\n",
    "\n",
    "\n",
    "scaler = StandardScaler()\n",
    "X_scaled = scaler.fit_transform(X)\n",
    "\n",
    "X_scaled_df = pd.DataFrame(X_scaled, columns=X.columns, index=df.index)\n",
    "\n",
    "print(X_scaled_df.head())\n"
   ]
  },
  {
   "cell_type": "markdown",
   "metadata": {},
   "source": [
    "# Bayesian MMM"
   ]
  },
  {
   "cell_type": "code",
   "execution_count": 5,
   "metadata": {},
   "outputs": [
    {
     "name": "stderr",
     "output_type": "stream",
     "text": [
      "Initializing NUTS using jitter+adapt_diag...\n",
      "Multiprocess sampling (4 chains in 4 jobs)\n",
      "NUTS: [intercept, coefficients, sigma]\n"
     ]
    },
    {
     "data": {
      "text/html": [
       "<pre style=\"white-space:pre;overflow-x:auto;line-height:normal;font-family:Menlo,'DejaVu Sans Mono',consolas,'Courier New',monospace\">/Users/vasukhare/Desktop/Marketing Mix Modeling/venv/lib/python3.13/site-packages/rich/live.py:231: UserWarning: \n",
       "install \"ipywidgets\" for Jupyter support\n",
       "  warnings.warn('install \"ipywidgets\" for Jupyter support')\n",
       "</pre>\n"
      ],
      "text/plain": [
       "/Users/vasukhare/Desktop/Marketing Mix Modeling/venv/lib/python3.13/site-packages/rich/live.py:231: UserWarning: \n",
       "install \"ipywidgets\" for Jupyter support\n",
       "  warnings.warn('install \"ipywidgets\" for Jupyter support')\n"
      ]
     },
     "metadata": {},
     "output_type": "display_data"
    },
    {
     "data": {
      "text/html": [
       "<pre style=\"white-space:pre;overflow-x:auto;line-height:normal;font-family:Menlo,'DejaVu Sans Mono',consolas,'Courier New',monospace\"></pre>\n"
      ],
      "text/plain": []
     },
     "metadata": {},
     "output_type": "display_data"
    },
    {
     "name": "stderr",
     "output_type": "stream",
     "text": [
      "Sampling 4 chains for 1_000 tune and 2_000 draw iterations (4_000 + 8_000 draws total) took 2 seconds.\n"
     ]
    },
    {
     "name": "stdout",
     "output_type": "stream",
     "text": [
      "                      mean     sd     hdi_3%    hdi_97%  mcse_mean  mcse_sd  \\\n",
      "intercept          323.862  9.789    305.130    341.670      0.083    0.111   \n",
      "coefficients[0]      0.840  0.995     -1.069      2.675      0.009    0.011   \n",
      "coefficients[1]      0.486  1.005     -1.395      2.394      0.009    0.012   \n",
      "coefficients[2]      0.903  1.013     -0.935      2.852      0.009    0.012   \n",
      "coefficients[3]      0.761  0.996     -1.114      2.651      0.009    0.013   \n",
      "coefficients[4]      1.083  0.990     -0.844      2.862      0.008    0.012   \n",
      "coefficients[5]      1.046  1.006     -0.798      2.962      0.009    0.011   \n",
      "coefficients[6]      0.663  1.000     -1.222      2.514      0.008    0.013   \n",
      "sigma            35427.730  0.509  35426.760  35428.657      0.004    0.006   \n",
      "\n",
      "                 ess_bulk  ess_tail  r_hat  \n",
      "intercept         13924.0    6447.0    1.0  \n",
      "coefficients[0]   13004.0    6273.0    1.0  \n",
      "coefficients[1]   11691.0    5755.0    1.0  \n",
      "coefficients[2]   11706.0    5959.0    1.0  \n",
      "coefficients[3]   13194.0    5692.0    1.0  \n",
      "coefficients[4]   15104.0    5938.0    1.0  \n",
      "coefficients[5]   12792.0    6055.0    1.0  \n",
      "coefficients[6]   13825.0    5788.0    1.0  \n",
      "sigma             15770.0    5496.0    1.0  \n"
     ]
    }
   ],
   "source": [
    "import pymc as pm\n",
    "import arviz as az\n",
    "import numpy as np\n",
    "\n",
    "X_matrix = X_scaled_df.values\n",
    "y_vector = y.values\n",
    "n_features = X_matrix.shape[1]\n",
    "\n",
    "with pm.Model() as bayesian_mmm:\n",
    "    intercept = pm.Normal(\"intercept\", mu=0, sigma=10)\n",
    "    coefficients = pm.Normal(\"coefficients\", mu=0, sigma=1, shape=n_features)\n",
    "    sigma = pm.HalfNormal(\"sigma\", sigma=1)\n",
    "\n",
    "    mu = intercept + pm.math.dot(X_matrix, coefficients)\n",
    "\n",
    "    y_obs = pm.Normal(\"y_obs\", mu=mu, sigma=sigma, observed=y_vector)\n",
    "\n",
    "    trace = pm.sample(2000, tune=1000, target_accept=0.95, return_inferencedata=True)\n",
    "\n",
    "print(az.summary(trace, var_names=[\"intercept\", \"coefficients\", \"sigma\"]))\n"
   ]
  },
  {
   "cell_type": "markdown",
   "metadata": {},
   "source": [
    "# ROI"
   ]
  },
  {
   "cell_type": "code",
   "execution_count": 8,
   "metadata": {},
   "outputs": [
    {
     "data": {
      "image/png": "[encoded data removed]",
      "text/plain": [
       "<Figure size 1000x500 with 1 Axes>"
      ]
     },
     "metadata": {},
     "output_type": "display_data"
    }
   ],
   "source": [
    "import numpy as np\n",
    "import pandas as pd\n",
    "import matplotlib.pyplot as plt\n",
    "import seaborn as sns\n",
    "\n",
    "# Extract posterior means\n",
    "posterior_means = trace.posterior['coefficients'].mean(dim=[\"chain\", \"draw\"]).values\n",
    "\n",
    "# Mean and std from original data\n",
    "media_spend = X.mean()\n",
    "media_std = X.std()\n",
    "\n",
    "# Contribution = posterior mean × std(media_spend)\n",
    "channel_contrib = posterior_means * media_std\n",
    "\n",
    "# ROI = Contribution / Mean Spend\n",
    "roi = channel_contrib / media_spend\n",
    "\n",
    "# Build ROI DataFrame\n",
    "roi_df = pd.DataFrame({\n",
    "    \"Channel\": media_features,\n",
    "    \"Posterior_Mean\": posterior_means,\n",
    "    \"Avg_Spend\": media_spend.values,\n",
    "    \"Estimated_Contribution\": channel_contrib,\n",
    "    \"ROI\": roi\n",
    "}).sort_values(by=\"ROI\", ascending=False)\n",
    "\n",
    "# Plot\n",
    "plt.figure(figsize=(10, 5))\n",
    "sns.barplot(data=roi_df, x='Channel', y='ROI')\n",
    "plt.title(\"Estimated ROI per Marketing Channel (Bayesian MMM)\")\n",
    "plt.ylabel(\"ROI (Contribution / Spend)\")\n",
    "plt.xticks(rotation=45)\n",
    "plt.tight_layout()\n",
    "plt.show()\n",
    "\n"
   ]
  }
 ],
 "metadata": {
  "kernelspec": {
   "display_name": "venv",
   "language": "python",
   "name": "python3"
  },
  "language_info": {
   "codemirror_mode": {
    "name": "ipython",
    "version": 3
   },
   "file_extension": ".py",
   "mimetype": "text/x-python",
   "name": "python",
   "nbconvert_exporter": "python",
   "pygments_lexer": "ipython3",
   "version": "3.13.0"
  }
 },
 "nbformat": 4,
 "nbformat_minor": 2
}
